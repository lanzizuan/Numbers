{
  "nbformat": 4,
  "nbformat_minor": 0,
  "metadata": {
    "colab": {
      "name": "Team4 -Assignment4 TSP",
      "version": "0.3.2",
      "provenance": [],
      "include_colab_link": true
    },
    "kernelspec": {
      "name": "python3",
      "display_name": "Python 3"
    },
    "accelerator": "GPU"
  },
  "cells": [
    {
      "cell_type": "markdown",
      "metadata": {
        "id": "view-in-github",
        "colab_type": "text"
      },
      "source": [
        "<a href=\"https://colab.research.google.com/github/lanzizuan/TSP-Parallelization/blob/master/TSP-parallelization.ipynb\" target=\"_parent\"><img src=\"https://colab.research.google.com/assets/colab-badge.svg\" alt=\"Open In Colab\"/></a>"
      ]
    },
    {
      "metadata": {
        "id": "fiY4fD-mWjYt",
        "colab_type": "code",
        "outputId": "a043d2aa-3ce3-4327-b5df-f1c0205126b4",
        "colab": {
          "base_uri": "https://localhost:8080/",
          "height": 212
        }
      },
      "cell_type": "code",
      "source": [
        "#get distance file from github\n",
        "!wget https://raw.githubusercontent.com/lanzizuan/Numbers/master/path.py"
      ],
      "execution_count": 0,
      "outputs": [
        {
          "output_type": "stream",
          "text": [
            "--2019-03-02 16:14:05--  https://raw.githubusercontent.com/lanzizuan/Numbers/master/path.py\n",
            "Resolving raw.githubusercontent.com (raw.githubusercontent.com)... 151.101.0.133, 151.101.64.133, 151.101.128.133, ...\n",
            "Connecting to raw.githubusercontent.com (raw.githubusercontent.com)|151.101.0.133|:443... connected.\n",
            "HTTP request sent, awaiting response... 200 OK\n",
            "Length: 79021 (77K) [text/plain]\n",
            "Saving to: ‘path.py’\n",
            "\n",
            "\rpath.py               0%[                    ]       0  --.-KB/s               \rpath.py             100%[===================>]  77.17K  --.-KB/s    in 0.02s   \n",
            "\n",
            "2019-03-02 16:14:05 (3.80 MB/s) - ‘path.py’ saved [79021/79021]\n",
            "\n"
          ],
          "name": "stdout"
        }
      ]
    },
    {
      "metadata": {
        "id": "JLnbUtf6VPtA",
        "colab_type": "code",
        "colab": {}
      },
      "cell_type": "code",
      "source": [
        "#!/usr/bin/env python\n",
        "\"\"\"\n",
        "Traveling salesman solution with random start and greedy path selection and parallelization\n",
        "\n",
        "\"\"\"\n",
        "#import distance between 50 capitals of US states\n",
        "from path import values\n",
        "\n",
        "#import packages\n",
        "import sys\n",
        "from random import choice\n",
        "import numpy as np\n",
        "import pandas as pd\n",
        "from multiprocessing import Pool\n",
        "import warnings\n",
        "warnings.filterwarnings('ignore')\n"
      ],
      "execution_count": 0,
      "outputs": []
    },
    {
      "metadata": {
        "id": "52kfky-ZXfzK",
        "colab_type": "code",
        "colab": {}
      },
      "cell_type": "code",
      "source": [
        "dt = np.dtype([('city_start', 'S10'), ('city_end', 'S10'), ('distance', int)])\n",
        "data_set = np.array(values,dtype=dt)"
      ],
      "execution_count": 0,
      "outputs": []
    },
    {
      "metadata": {
        "id": "B1KDzh9B7M57",
        "colab_type": "code",
        "colab": {}
      },
      "cell_type": "code",
      "source": [
        "def all_cities(mdarray):\n",
        "    \"\"\"Takes a multi-dimensional array in this format and finds unique cities\n",
        "    \n",
        "    array([[\"A\", \"A\"],\n",
        "    [\"A\", \"B\"]])\n",
        "    \n",
        "    \"\"\"\n",
        "    cities = {}\n",
        "    city_set = set(data_set['city_end'])\n",
        "    for city in city_set:\n",
        "        cities[city] = \"\"\n",
        "    return cities\n",
        "    \n",
        "def randomize_city_start(all_cities):\n",
        "    \"\"\"Returns a randomized city to start trip\"\"\"\n",
        "    \n",
        "    return choice(all_cities)\n",
        "\n",
        "def get_shortest_route(routes):\n",
        "    \"\"\"Sort the list by distance and return shortest distance route\"\"\"\n",
        "\n",
        "    route = sorted(routes, key=lambda dist: dist[2]).pop(0)\n",
        "    return route\n",
        "\n",
        "  \n",
        "def greedy_path(starting_city):\n",
        "    \"\"\"Select the next path to travel based on the shortest, nearest path\"\"\"\n",
        "\n",
        "    itinerary = []\n",
        "    cities = all_cities(data_set)\n",
        "    #starting_city = randomize_city_start(list(cities.keys()))\n",
        "    #print \"starting_city: %s\" % starting_city\n",
        "    cities_visited = {}\n",
        "    #we want to iterate through all cities once\n",
        "    count = 1\n",
        "    while True:\n",
        "        possible_routes = []\n",
        "        distance = [] \n",
        "       # print( \"starting city: %s\" % starting_city)\n",
        "        for path in data_set:\n",
        "            if starting_city in path['city_start']:\n",
        "                #we can't go to cities we have already visited\n",
        "                if path['city_end'] in cities_visited:\n",
        "                    continue\n",
        "                else:\n",
        "                    #print (\"path: \", path)\n",
        "                    possible_routes.append(path)\n",
        "        \n",
        "        \n",
        "        if not possible_routes:\n",
        "            break\n",
        "        #append this to itinerary\n",
        "        #print(\"possible_route\", possible_routes[0:3])\n",
        "        route = get_shortest_route(possible_routes)\n",
        "        #print (\"Route(%s): %s \" % (count, route))\n",
        "        count += 1\n",
        "        itinerary.append(route)\n",
        "        #add this city to the visited city list\n",
        "        cities_visited[route[0]] = count\n",
        "        #print (\"cities_visited: %s \" % cities_visited)\n",
        "        #reset the starting_city to the next city\n",
        "        starting_city = route[1]\n",
        "        #print \"itinerary: %s\" % itinerary\n",
        "    for path in data_set:\n",
        "        if (itinerary[-1]['city_end']==path['city_start'] and itinerary[0]['city_start']==path['city_end']):\n",
        "           itinerary=itinerary+[path]       \n",
        "   \n",
        "    return itinerary\n",
        "\n",
        "def get_total_distance(complete_itinerary):\n",
        "    \n",
        "    distance = sum(z for x,y,z in complete_itinerary)\n",
        "    return distance\n",
        "\n",
        "def lowest_simulation(num):\n",
        "    \n",
        "    routes = {}\n",
        "    for i in range(num):\n",
        "        itinerary = greedy_path()\n",
        "        distance = get_total_distance(itinerary)\n",
        "        routes[distance] = itinerary\n",
        "    shortest_distance = min(routes.keys())\n",
        "    route = routes[shortest_distance]\n",
        "    return shortest_distance, route\n",
        "\n",
        "def main(starting_city):\n",
        "    \"\"\"runs everything\"\"\"\n",
        "    dic = {}\n",
        "    start = []\n",
        "    final_itinerary=[]\n",
        "    if len(sys.argv) == 2:\n",
        "        iterations = int(sys.argv[1])\n",
        "        print (\"Running simulation %s times\" % iterations)\n",
        "        distance, route = lowest_simulation(iterations)\n",
        "        print (\"Shortest Distance: %s\" % distance)\n",
        "        print (\"Optimal Route: %s\" % route)\n",
        "    else:\n",
        "        #print (\"All Routes: %s\" % data_set)\n",
        "        itinerary = greedy_path(starting_city)\n",
        "        #print (\"itinerary: %s\" % itinerary)\n",
        "        #print (\"Distance: %s\" % get_total_distance(itinerary))\n",
        "    \n",
        "    total_distance = int(get_total_distance(itinerary))   \n",
        "    start = itinerary[0][0]\n",
        "    final_itinerary.append(start)\n",
        "    for step in itinerary:\n",
        "      end = step[\"city_end\"]\n",
        "      \n",
        "      final_itinerary.append(end)\n",
        "    #print(final_itinerary)\n",
        "    \n",
        "    finalitnerary = ' - '.join( map(str, final_itinerary))\n",
        "    \n",
        "    #save starting city and distance in a dictionary\n",
        "    dic[finalitnerary] = total_distance\n",
        "    #print(dic)\n",
        "    return dic\n",
        "\n",
        "#set times of running\n",
        "running_times = 500\n",
        "\n",
        "\n",
        "#generate starting point randomly\n",
        "def starting():\n",
        "  cities = all_cities(data_set)\n",
        "  starting_point = []\n",
        "  for i in range(running_times):\n",
        "    start_city = randomize_city_start(list(cities.keys()))\n",
        "    starting_point.append(start_city)  \n",
        "  return starting_point\n",
        "\n",
        " #parellization\n",
        "if __name__ == '__main__':\n",
        "  starting_city = starting() \n",
        "  with Pool(running_times) as p:\n",
        "    dis = p.map(main,starting_city)\n",
        "\n"
      ],
      "execution_count": 0,
      "outputs": []
    },
    {
      "metadata": {
        "id": "w5Otwo8-ARBy",
        "colab_type": "code",
        "colab": {}
      },
      "cell_type": "code",
      "source": [
        "#change the width of column to show the whole itinerary\n",
        "pd.options.display.max_colwidth = 10000"
      ],
      "execution_count": 0,
      "outputs": []
    },
    {
      "metadata": {
        "id": "eEsRKYFAkZvg",
        "colab_type": "code",
        "outputId": "fa3152cd-85d1-45b9-d7a8-270870cb2986",
        "colab": {
          "base_uri": "https://localhost:8080/",
          "height": 35
        }
      },
      "cell_type": "code",
      "source": [
        "#print the shortest route of different starting city and the distance\n",
        "cols=[\"route\",\"distance\"]\n",
        "df = pd.DataFrame(columns=cols)\n",
        "master_df = pd.DataFrame(columns=cols)\n",
        "for i in dis:\n",
        "  df[\"route\"]=i.keys()\n",
        "  df[\"distance\"]=i.values()\n",
        "  master_df= master_df.append(df)\n",
        "  \n",
        "route = master_df[\"route\"]\n",
        "city_number = route.nunique()\n",
        "print(city_number,\" cities have been selected as starting point.\")\n"
      ],
      "execution_count": 0,
      "outputs": [
        {
          "output_type": "stream",
          "text": [
            "50  cities have been selected as starting point.\n"
          ],
          "name": "stdout"
        }
      ]
    },
    {
      "metadata": {
        "colab_type": "code",
        "outputId": "56071387-4969-492d-88a9-24577be1497e",
        "id": "wh32gP28_vAg",
        "colab": {
          "base_uri": "https://localhost:8080/",
          "height": 72
        }
      },
      "cell_type": "code",
      "source": [
        "shortest_route = master_df[master_df[\"distance\"] == min(master_df[\"distance\"])]\n",
        "shortest_route.drop_duplicates(inplace=True)\n",
        "route_final = shortest_route[\"route\"]\n",
        "distance_final = shortest_route[\"distance\"]\n",
        "\n",
        "print (\"Shortest Distance: %s\" % distance_final.values)\n",
        "print (\"Optimal Route: %s\" % route_final.values)"
      ],
      "execution_count": 0,
      "outputs": [
        {
          "output_type": "stream",
          "text": [
            "Shortest Distance: [19617]\n",
            "Optimal Route: [\"b'Salem' - b'Olympia' - b'Boise' - b'Helana' - b'Salt Lake ' - b'Denver' - b'Cheyenne' - b'Pierre' - b'Lincoln' - b'Topeka' - b'Jefferson ' - b'Springfiel' - b'Indianapol' - b'Frankfort' - b'Columbus' - b'Charleston' - b'Richmond' - b'Annapolis' - b'Dover' - b'Trenton' - b'Harrisburg' - b'Albany' - b'Hartford' - b'Providence' - b'Boston' - b'Concord' - b'Montpelier' - b'Augusta' - b'Lansing' - b'Madison' - b'Saint Paul' - b'Des Moines' - b'Oklahoma C' - b'Little Roc' - b'Jackson' - b'Baton Roug' - b'Montgomery' - b'Atlanta' - b'Columbia' - b'Raleigh' - b'Nashville' - b'Tallahasse' - b'Austin' - b'Santa Fe' - b'Phoenix' - b'Carson Cit' - b'Sacramento' - b'Bismarck' - b'Juneau' - b'Honolulu' - b'Salem'\"]\n"
          ],
          "name": "stdout"
        }
      ]
    },
    {
      "metadata": {
        "id": "biJEyVCEAYOw",
        "colab_type": "code",
        "colab": {}
      },
      "cell_type": "code",
      "source": [
        "#print the itinerary of shortest distance to a file\n",
        "outF = open(\"myOutFile.txt\", \"w\")\n",
        "for ind, line in shortest_route.iterrows():\n",
        "  # write line to output file\n",
        "  outF.write(str(line))\n",
        "  outF.write(\"\\n\")\n",
        "  #print(line)\n",
        "outF.close()"
      ],
      "execution_count": 0,
      "outputs": []
    }
  ]
}